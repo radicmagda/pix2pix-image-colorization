{
 "cells": [
  {
   "cell_type": "markdown",
   "metadata": {},
   "source": [
    "<div style=\"display: flex; gap: 10px;justify-content: center;\">\n",
    "  <img src=\"results/example_results/nama.png\" width=\"30%\" />\n",
    "  <img src=\"results/example_results/nama_c.png\" width=\"30%\" />\n",
    "</div>\n",
    "\n",
    "<div style=\"display: flex; flex-direction: column; align-items: center; gap: 10px;\">\n",
    "   <figure style=\"display: block; text-align: center;\">\n",
    "    <img src=\"results/example_results/bw.png\" width=\"50%\" />\n",
    "    <figcaption>Black and White</figcaption>\n",
    "  </figure>\n",
    "   <figure style=\"display: block; text-align: center;\">\n",
    "    <img src=\"results/example_results/lsgan.png\" width=\"50%\" />\n",
    "    <figcaption>Colorized</figcaption>\n",
    "  </figure>\n",
    "   <figure style=\"display: block; text-align: center;\">\n",
    "    <img src=\"results/example_results/gt.png\" width=\"50%\" />\n",
    "    <figcaption>Ground Truth</figcaption>\n",
    "  </figure>\n",
    "</div>"
   ]
  }
 ],
 "metadata": {
  "language_info": {
   "name": "python"
  }
 },
 "nbformat": 4,
 "nbformat_minor": 2
}
